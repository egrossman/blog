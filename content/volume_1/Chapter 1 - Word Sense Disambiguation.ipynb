{
 "cells": [
  {
   "cell_type": "markdown",
   "metadata": {},
   "source": [
    "# Word-Sense Disambiguation - A Dandelion by Any Other Name Would Reek Just as Candy"
   ]
  },
  {
   "cell_type": "markdown",
   "metadata": {},
   "source": [
    "## Is there an art to replacing words?\n",
    "\n",
    "Many topics in Natural Language Processing seem like they would be trivial to solve. Take the case of finding synonyms or antonyms for a word in a sentence. All you have to do is look up the word in a thesaurus and find a suitable replacement. Our dictionaries like Miriam Webster or Oxford are essentially databases. Surely we can just do a lookup, right? That's O(1) complexity! In my example above - \"A Dandelion by any other name would reek just as candy\" is a play on Shakespeare's words \"A rose by any other name would be just as sweet\". I've replaced three words manually. \n",
    "\n",
    "**Rose -> Dandelion**: These are not true synonyms, but they are both flowers. A human might find them to be a suitable replacement, but this is NOT what we want to solve. In fact, this is a replacement that a language model might make since the **sense** of the sentence is preserved.\n",
    "\n",
    "**Sweet -> Candy**: The word sweet could refer to a cookie or any other sugary confectionery. This is a synonym, but it doesn't preserve the sense of the sentence. The original meaning is describing the taste/smell of sugar. The word **pleasant** would maintain the meaning of the original sentence, but instead we choose the wrong meaning\n",
    "\n",
    "**Smell -> Reek**: This is a correct synonym change for the sentence, although it does change the connotation of the sentence. The sense of the word is preserved, but reek implies that the smell is bad! In looking at a thesaurus, the word **smack** would be more appropriate, but it's also more colloquial than the simple word **smell**."
   ]
  },
  {
   "cell_type": "markdown",
   "metadata": {},
   "source": [
    "## First Attempt: Using a Dictionary\n",
    "\n",
    "The first thought would be to use a dictionary database that supports synonyms. The most famous one is Wordnet:\n",
    "    \n",
    "*George A. Miller (1995). WordNet: A Lexical Database for English.\n",
    "Communications of the ACM Vol. 38, No. 11: 39-41.*\n",
    "*Princeton University \"About WordNet.\" https://wordnet.princeton.edu. Princeton University. 2010. *\n",
    "\n",
    "This database is provided in the NLTK package. It provides apis to map between words AND senses. It has what is called synsets. These are the list of senses, or meanings that a word could represent. Words that share the same sense are synonyms.\n",
    "\n",
    "This makes our algorithm simple:\n",
    "1. Look up the word in the dictionary\n",
    "2. Get all senses of the word\n",
    "3. For the **correct** sense, select all words that share the same sense\n",
    "\n",
    "We'll soon see that the 3rd step is going to be much more complicated than assumed and has a whole field of research behind it. Anyways, without further ado:\n",
    "\n"
   ]
  },
  {
   "cell_type": "markdown",
   "metadata": {},
   "source": [
    "### 1. Look up the word in the dictionary"
   ]
  },
  {
   "cell_type": "code",
   "execution_count": 1,
   "metadata": {},
   "outputs": [
    {
     "name": "stdout",
     "output_type": "stream",
     "text": [
      "[Synset('smell.n.01'), Synset('olfactory_property.n.01'), Synset('spirit.n.02'), Synset('smell.n.04'), Synset('smell.n.05'), Synset('smell.v.01'), Synset('smell.v.02'), Synset('smell.v.03'), Synset('smack.v.02'), Synset('smell.v.05')]\n"
     ]
    }
   ],
   "source": [
    "from nltk.corpus import wordnet\n",
    "print(wordnet.synsets(\"smell\"))"
   ]
  },
  {
   "cell_type": "markdown",
   "metadata": {},
   "source": [
    "What is this? Did we already finish the second step? This is a list of senses. You might expect that we would get a list of definitions, but the distinction here is that the the definition of a word is tied to it's meaning, and not the word itself. This seems obvious in hindsight. There are multiple meanings for the word. Some of them might be very specific to the word, such that there might not be another word that sames the same sense. \n",
    "\n",
    "The senses are names in the format of \"sense_name.part_of_speech_.number\". 'smell.n.01' is the first meaning for the noun \"smell\". Let's get the definition of each of theses:"
   ]
  },
  {
   "cell_type": "markdown",
   "metadata": {},
   "source": [
    "2. Get all senses of the word"
   ]
  },
  {
   "cell_type": "code",
   "execution_count": 2,
   "metadata": {},
   "outputs": [
    {
     "name": "stdout",
     "output_type": "stream",
     "text": [
      "Synset('smell.n.01'): the sensation that results when olfactory receptors in the nose are stimulated by particular chemicals in gaseous form\n",
      "Synset('olfactory_property.n.01'): any property detected by the olfactory system\n",
      "Synset('spirit.n.02'): the general atmosphere of a place or situation and the effect that it has on people\n",
      "Synset('smell.n.04'): the faculty that enables us to distinguish scents\n",
      "Synset('smell.n.05'): the act of perceiving the odor of something\n",
      "Synset('smell.v.01'): inhale the odor of; perceive by the olfactory sense\n",
      "Synset('smell.v.02'): emit an odor\n",
      "Synset('smell.v.03'): smell bad\n",
      "Synset('smack.v.02'): have an element suggestive (of something)\n",
      "Synset('smell.v.05'): become aware of not through the senses but instinctively\n"
     ]
    }
   ],
   "source": [
    "smell_senses = wordnet.synsets(\"smells\")\n",
    "for sense in smell_senses:\n",
    "    print(\"{sense}: {definition}\".format(sense=sense, definition=sense.definition()))"
   ]
  },
  {
   "cell_type": "markdown",
   "metadata": {},
   "source": [
    "3. For the **correct** sense, select all words that share the same sense\n",
    "\n",
    "We now have all of the senses and their definitions, but do we know the correct meaning? 'smell.v.01' looks promising. Let's look at that first."
   ]
  },
  {
   "cell_type": "code",
   "execution_count": 3,
   "metadata": {},
   "outputs": [
    {
     "name": "stdout",
     "output_type": "stream",
     "text": [
      "smell\n"
     ]
    }
   ],
   "source": [
    "words = wordnet.synset('smell.v.01').lemmas()\n",
    "for word in words:\n",
    "    print(word.name())"
   ]
  },
  {
   "cell_type": "markdown",
   "metadata": {},
   "source": [
    "We got back the word we started with! We'll have to try another. Let's just print out all of the synonyms for each sense to be safe"
   ]
  },
  {
   "cell_type": "code",
   "execution_count": 4,
   "metadata": {},
   "outputs": [
    {
     "name": "stdout",
     "output_type": "stream",
     "text": [
      "Synset('smell.n.01'): the sensation that results when olfactory receptors in the nose are stimulated by particular chemicals in gaseous form\n",
      "\tsmell\n",
      "\todor\n",
      "\todour\n",
      "\tolfactory_sensation\n",
      "\tolfactory_perception\n",
      "Synset('olfactory_property.n.01'): any property detected by the olfactory system\n",
      "\tolfactory_property\n",
      "\tsmell\n",
      "\taroma\n",
      "\todor\n",
      "\todour\n",
      "\tscent\n",
      "Synset('spirit.n.02'): the general atmosphere of a place or situation and the effect that it has on people\n",
      "\tspirit\n",
      "\ttone\n",
      "\tfeel\n",
      "\tfeeling\n",
      "\tflavor\n",
      "\tflavour\n",
      "\tlook\n",
      "\tsmell\n",
      "Synset('smell.n.04'): the faculty that enables us to distinguish scents\n",
      "\tsmell\n",
      "\tsense_of_smell\n",
      "\tolfaction\n",
      "\tolfactory_modality\n",
      "Synset('smell.n.05'): the act of perceiving the odor of something\n",
      "\tsmell\n",
      "\tsmelling\n",
      "Synset('smell.v.01'): inhale the odor of; perceive by the olfactory sense\n",
      "\tsmell\n",
      "Synset('smell.v.02'): emit an odor\n",
      "\tsmell\n",
      "Synset('smell.v.03'): smell bad\n",
      "\tsmell\n",
      "Synset('smack.v.02'): have an element suggestive (of something)\n",
      "\tsmack\n",
      "\treek\n",
      "\tsmell\n",
      "Synset('smell.v.05'): become aware of not through the senses but instinctively\n",
      "\tsmell\n",
      "\tsmell_out\n",
      "\tsense\n"
     ]
    }
   ],
   "source": [
    "for sense in smell_senses:\n",
    "    print(\"{sense}: {definition}\".format(sense=sense, definition=sense.definition()))\n",
    "    for word in sense.lemmas():\n",
    "        print(\"\\t{}\".format(word.name()))"
   ]
  },
  {
   "cell_type": "markdown",
   "metadata": {},
   "source": [
    "It seems like 'smack.v.02' is our most promising result and is equivalent to what I found in the thesaurus (smack and reek). We probably could have avoided most of these by removing the nouns, but how would we have selected the remaining word? **'smack.v.02': have an element suggestive (of something)** is our correct answer, but why not use **'smell.v.02': emit an odor** instead based on the definition? That definition seems more promising. \n",
    "\n",
    "My choice of sense was initially based on the definition. Who decides on the exact wording? If I used a different dictionary, I might have come to a different conclusion. Therefore a dictionary-agnostic method is preferred. This is the crux of the matter. The meaning or sense of the word is ambiguous. How should I know which word to use? Is there a way to validate that I selected the correct word?\n",
    "\n",
    "This problem is eponymously known as **Word-Sense Disambiguation**. It is hard. But much progress has been made in the past few years in Natural Language Processing. I plan to look at existing research in the field starting with pre machine learning algorithms and build up to state of the art research."
   ]
  }
 ],
 "metadata": {
  "kernelspec": {
   "display_name": "Python 3",
   "language": "python",
   "name": "python3"
  },
  "language_info": {
   "codemirror_mode": {
    "name": "ipython",
    "version": 3
   },
   "file_extension": ".py",
   "mimetype": "text/x-python",
   "name": "python",
   "nbconvert_exporter": "python",
   "pygments_lexer": "ipython3",
   "version": "3.6.3"
  }
 },
 "nbformat": 4,
 "nbformat_minor": 2
}
