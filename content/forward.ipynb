{
 "cells": [
  {
   "cell_type": "markdown",
   "metadata": {},
   "source": [
    "# Forward"
   ]
  },
  {
   "cell_type": "markdown",
   "metadata": {},
   "source": [
    "Welcome!\n",
    "\n",
    "The purpose of this diary is to chronicle my research in various topics around machine learning. It will contain a mix of experimentation, data exploration, reading and summarizing papers, and replicating state of the art models. I believe that taking a slower more deliberate approach to strudying will prove more effective than simply working on a project or kaggle competition."
   ]
  },
  {
   "cell_type": "markdown",
   "metadata": {},
   "source": [
    "## Why a diary?\n",
    "\n",
    "One of the questions I've always been attempting to answer is \"how do you become as qualified as a PHD without a PHD?\". The short answer is that you don't. There are no shortcuts. Instead, I have been asking a different question lately. \"What knowledge or skills does a PHD possess that I don't have as a software engineer?\". We both understand common machine learning libraries. We both understand how backpropogation works. We both might be specialized in a topic such as NLP or computer vision with years of experience behind us. So why do I feel that there is such a large gap?\n",
    "\n",
    "It's because my knowledge of machine learning only scratches the surface and the implementation. It's because once I've reached a solution to a problem, I move on. It's because I don't organize my research methodically when I don't have to.\n",
    "\n",
    "One thing I learned when working as a undergraduate research assistant in the physics department is that we can't publish a paper on a topic without understanding what we do and do not know about a topic. You will get challenged for every statement you make if you're not ready to back it up with evidence. Getting novel results on a state of the art model is useful and can open up new research, but it's still important that we understand the why. General intuition will only get us so far. We must test our assumptions when we can, and entertain the possibility that our assumptions are wrong. We can only get so far without running experiments over and over again.\n",
    "\n",
    "In other words, I need to focus on a question and attempt to understand everything I take for granted with empirical evidence. Building a model that outperforms current state of the art models or building a neat application are not the topics of this diary. Every entry will be a question. Hypotheses will be tested. This is a methodical journal of my journey to learn more deeply about machine learning.\n",
    "\n"
   ]
  },
  {
   "cell_type": "markdown",
   "metadata": {},
   "source": [
    "## What to expect\n",
    "1. All data used in this diary will be openly available\n",
    "2. Each entry will be able to run in jupyter without previous entries needing to be run\n",
    "    * I will provide github links to compiled data files such as models and custom methods from previous entries\n",
    "    * I want each entry to be a distinguishable amount of work. I may split up work between entries, though\n",
    "3. I will include a disclaimer of assumptions being made in each entry. \n",
    "    * I will try to address what is reasonable either using previous work or creating new entries.\n",
    "    * An example would be: Neural Networks require more data to be accurate than other models -> Go and show the learning curve between the two models. Or find a paper on the topic.\n",
    "4. This is not a how-to blog\n",
    "    * Medium has a lot of great content for how-tos. My goal is not to post this for others to copy and paste, but to organize my thoughts and experiments\n",
    "    * This doesn't mean you can't use what you find here, just don't be frustrated if I spend more time investigating why my hypotheses are false than providing the solution right away"
   ]
  },
  {
   "cell_type": "code",
   "execution_count": null,
   "metadata": {},
   "outputs": [],
   "source": []
  }
 ],
 "metadata": {
  "kernelspec": {
   "display_name": "Python 3",
   "language": "python",
   "name": "python3"
  },
  "language_info": {
   "codemirror_mode": {
    "name": "ipython",
    "version": 3
   },
   "file_extension": ".py",
   "mimetype": "text/x-python",
   "name": "python",
   "nbconvert_exporter": "python",
   "pygments_lexer": "ipython3",
   "version": "3.6.3"
  }
 },
 "nbformat": 4,
 "nbformat_minor": 2
}
