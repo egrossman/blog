{
 "cells": [
  {
   "cell_type": "markdown",
   "metadata": {},
   "source": [
    "# Forward"
   ]
  },
  {
   "cell_type": "markdown",
   "metadata": {},
   "source": [
    "Welcome!\n",
    "\n",
    "The purpose of this diary is to chronicle my research in various topics around machine learning. It will contain a mix of experimentation, data exploration, reading and summarizing papers, and replicating state of the art models. I believe that taking a slower more deliberate approach to strudying will prove more effective than simply working on a project or kaggle competition."
   ]
  },
  {
   "cell_type": "markdown",
   "metadata": {},
   "source": [
    "## What to expect\n",
    "1. I'll attempt to dive deeper into topics when I don't know something. I welcome the rabbit hole\n",
    "2. When possible, I will attempt to prove or disprove assumptions made about data, lanuguage, and science through exploration and experimentation\n",
    "3. This is not a tutorial blog, but a place to organize my thoughts and research in a way that is productive towards learning. I may have entire posts dedicated to experimenting a crazy idea only to realize I'm reinventing the wheel or that it will lead nowhere"
   ]
  },
  {
   "cell_type": "code",
   "execution_count": null,
   "metadata": {},
   "outputs": [],
   "source": []
  }
 ],
 "metadata": {
  "kernelspec": {
   "display_name": "Python 3",
   "language": "python",
   "name": "python3"
  },
  "language_info": {
   "codemirror_mode": {
    "name": "ipython",
    "version": 3
   },
   "file_extension": ".py",
   "mimetype": "text/x-python",
   "name": "python",
   "nbconvert_exporter": "python",
   "pygments_lexer": "ipython3",
   "version": "3.6.3"
  }
 },
 "nbformat": 4,
 "nbformat_minor": 2
}
